{
 "cells": [
  {
   "cell_type": "code",
   "execution_count": 1,
   "id": "119c6e16",
   "metadata": {},
   "outputs": [],
   "source": [
    "import drawing\n",
    "# import imp\n",
    "# imp.reload(drawing)"
   ]
  },
  {
   "cell_type": "code",
   "execution_count": 5,
   "id": "d3c27277",
   "metadata": {},
   "outputs": [
    {
     "name": "stdout",
     "output_type": "stream",
     "text": [
      "cuda:0\n"
     ]
    }
   ],
   "source": [
    "import numpy as np\n",
    "\n",
    "import os\n",
    "\n",
    "import torch\n",
    "\n",
    "from IPython.core.interactiveshell import InteractiveShell\n",
    "InteractiveShell.ast_node_interactivity = \"all\"\n",
    "\n",
    "device = 'cuda:0' if torch.cuda.is_available() else 'cpu'\n",
    "print(device)\n"
   ]
  },
  {
   "cell_type": "code",
   "execution_count": 6,
   "id": "39c2c1e7",
   "metadata": {},
   "outputs": [],
   "source": [
    "from collections import defaultdict\n",
    "\n",
    "data_dir = \"data\"\n",
    "alphabet = [\n",
    "    '\\x00', ' ', '!', '\"', '#', \"'\", '(', ')', ',', '-', '.',\n",
    "    '0', '1', '2', '3', '4', '5', '6', '7', '8', '9', ':', ';',\n",
    "    '?', 'A', 'B', 'C', 'D', 'E', 'F', 'G', 'H', 'I', 'J', 'K',\n",
    "    'L', 'M', 'N', 'O', 'P', 'R', 'S', 'T', 'U', 'V', 'W', 'Y',\n",
    "    'a', 'b', 'c', 'd', 'e', 'f', 'g', 'h', 'i', 'j', 'k', 'l',\n",
    "    'm', 'n', 'o', 'p', 'q', 'r', 's', 't', 'u', 'v', 'w', 'x',\n",
    "    'y', 'z'\n",
    "]\n",
    "alphabet_ord = list(map(ord, alphabet))\n",
    "alpha_to_num = defaultdict(int, list(map(reversed, enumerate(alphabet))))\n",
    "num_to_alpha = defaultdict(int, list(enumerate(alphabet)))\n"
   ]
  },
  {
   "cell_type": "code",
   "execution_count": 107,
   "id": "f378cc71",
   "metadata": {},
   "outputs": [],
   "source": [
    "import matplotlib.pyplot as plt\n",
    "\n",
    "def offsets_to_coords(offsets):\n",
    "    \"\"\"\n",
    "    convert from offsets to coordinates\n",
    "    \"\"\"\n",
    "    return np.concatenate([np.cumsum(offsets[:, :2], axis=0), offsets[:, 2:3]], axis=1)\n",
    "\n",
    "\n",
    "def draw(offsets, plot_end_points=True):\n",
    "    strokes = offsets_to_coords(offsets)\n",
    "    \n",
    "    fig, ax = plt.subplots(figsize=(12, 6))\n",
    "    stroke = []\n",
    "    for x, y, eos in strokes:\n",
    "        stroke.append((x, y))\n",
    "        if eos == 1:\n",
    "            coords = list(zip(*stroke))\n",
    "            ax.plot(coords[0], coords[1], 'k')\n",
    "            if plot_end_points:\n",
    "                ax.plot(x, y, 'ro')\n",
    "            stroke = []\n",
    "    if stroke:\n",
    "        coords = list(zip(*stroke))\n",
    "        ax.plot(coords[0], coords[1], 'k')\n",
    "        stroke = []\n",
    "\n",
    "    padding = 10\n",
    "    \n",
    "    ax.set_xlim(strokes[:,0].min() - padding, strokes[:,0].max() + padding)\n",
    "    ax.set_ylim(strokes[:,1].min() - padding, strokes[:,1].max() + padding)\n",
    "\n",
    "    ax.set_aspect('equal')\n",
    "    plt.tick_params(\n",
    "        axis='both',\n",
    "        left='off',\n",
    "        top='off',\n",
    "        right='off',\n",
    "        bottom='off',\n",
    "        labelleft='off',\n",
    "        labeltop='off',\n",
    "        labelright='off',\n",
    "        labelbottom='off'\n",
    "    )\n",
    "    plt.show()\n",
    "    plt.close('all')"
   ]
  },
  {
   "cell_type": "code",
   "execution_count": 108,
   "id": "2ae49de2",
   "metadata": {},
   "outputs": [],
   "source": [
    "strokes = np.load(os.path.join(data_dir, 'x.npy'))\n",
    "stroke_lens = np.load(os.path.join(data_dir, 'x_len.npy'))\n",
    "texts = np.load(os.path.join(data_dir, 'c.npy'))\n",
    "text_lens = np.load(os.path.join(data_dir, 'c_len.npy'))\n",
    "w_id = np.load(os.path.join(data_dir, 'w_id.npy'))"
   ]
  },
  {
   "cell_type": "code",
   "execution_count": 109,
   "id": "15b828d5",
   "metadata": {},
   "outputs": [
    {
     "name": "stdout",
     "output_type": "stream",
     "text": [
      "0.11109939 1.4914471\n"
     ]
    }
   ],
   "source": [
    "mean = np.mean(strokes[:, :, 0:2])\n",
    "stddev = np.std(strokes[:, :, 0:2])\n",
    "print(mean, stddev)\n",
    "\n",
    "valid = np.zeros((stroke_lens.sum(), 2))\n",
    "l = 0\n",
    "for i in range(strokes.shape[0]):\n",
    "    valid[l:l+stroke_lens[i], :] = strokes[i, :stroke_lens[i], 0:2]\n",
    "    l += stroke_lens[i]  \n",
    "    \n",
    "\n",
    "\n",
    "# strokes[:,:,0:2] = (strokes[:,:,0:2] - mean)/stddev\n",
    "# print(np.mean(strokes[:, :, 0:2]), np.std(strokes[:, :, 0:2]))\n"
   ]
  },
  {
   "cell_type": "code",
   "execution_count": 110,
   "id": "a67be424",
   "metadata": {},
   "outputs": [],
   "source": [
    "m0 = valid[:, 0].mean()\n",
    "m1 = valid[:, 1].mean()\n",
    "s0 = valid[:, 0].std()\n",
    "s1 = valid[:, 1].std()\n",
    "\n",
    "for i in range(strokes.shape[0]):\n",
    "    strokes[i,:stroke_lens[i], 0] = (strokes[i,:stroke_lens[i], 0] - m0)/s0\n",
    "    strokes[i,:stroke_lens[i], 1] = (strokes[i,:stroke_lens[i], 1] - m1)/s1"
   ]
  },
  {
   "cell_type": "code",
   "execution_count": 111,
   "id": "8a6d15ac",
   "metadata": {},
   "outputs": [
    {
     "data": {
      "image/png": "[encoded data removed]",
      "text/plain": [
       "<Figure size 864x432 with 1 Axes>"
      ]
     },
     "metadata": {
      "needs_background": "light"
     },
     "output_type": "display_data"
    },
    {
     "name": "stdout",
     "output_type": "stream",
     "text": [
      "What 's new? This piece\n",
      "drawing length: 674, text_length: 24\n"
     ]
    },
    {
     "data": {
      "image/png": "[encoded data removed]",
      "text/plain": [
       "<Figure size 864x432 with 1 Axes>"
      ]
     },
     "metadata": {
      "needs_background": "light"
     },
     "output_type": "display_data"
    },
    {
     "name": "stdout",
     "output_type": "stream",
     "text": [
      "is a rich and rare combination\n",
      "drawing length: 721, text_length: 31\n"
     ]
    }
   ],
   "source": [
    "for i in range(2):\n",
    "    draw(strokes[i])\n",
    "    print(drawing.decode_ascii(texts[i]))\n",
    "    print(f\"drawing length: {stroke_lens[i]}, text_length: {text_lens[i]}\")"
   ]
  },
  {
   "cell_type": "code",
   "execution_count": 9,
   "id": "bc7fc6b3",
   "metadata": {},
   "outputs": [
    {
     "name": "stdout",
     "output_type": "stream",
     "text": [
      "65\n",
      "tensor(72, dtype=torch.int8)\n"
     ]
    }
   ],
   "source": [
    "text_indexed = torch.tensor(texts)\n",
    "max_text_len = max(text_lens)\n",
    "print(max_text_len)\n",
    "max_index = torch.max(text_indexed)\n",
    "print(max_index)"
   ]
  },
  {
   "cell_type": "code",
   "execution_count": 10,
   "id": "e0e5bb18",
   "metadata": {
    "scrolled": true
   },
   "outputs": [
    {
     "data": {
      "text/plain": [
       "torch.Size([11911, 65, 73])"
      ]
     },
     "execution_count": 10,
     "metadata": {},
     "output_type": "execute_result"
    },
    {
     "data": {
      "text/plain": [
       "torch.Size([11911, 65])"
      ]
     },
     "execution_count": 10,
     "metadata": {},
     "output_type": "execute_result"
    }
   ],
   "source": [
    "text_one_hots = torch.zeros((len(texts), max_text_len, max_index + 1))\n",
    "text_masks = torch.ones((len(texts), max_text_len))\n",
    "for i, string in enumerate(texts):\n",
    "    for j, c in enumerate(string[:max_text_len]):\n",
    "        text_one_hots[i, j, c] = 1\n",
    "    text_masks[i, text_lens[i]:] = 0\n",
    "    \n",
    "text_one_hots.shape\n",
    "text_masks.shape\n"
   ]
  },
  {
   "cell_type": "code",
   "execution_count": 11,
   "id": "ce80c5b5",
   "metadata": {},
   "outputs": [],
   "source": [
    "import torch \n",
    "from torch import tensor\n",
    "import torch.nn as nn\n",
    "from torch.utils.data import Dataset, DataLoader\n",
    "from torch.nn.utils.rnn import pack_padded_sequence, pad_packed_sequence"
   ]
  },
  {
   "cell_type": "code",
   "execution_count": 12,
   "id": "651387b1",
   "metadata": {},
   "outputs": [],
   "source": [
    "class HandwritingDataset(Dataset):\n",
    "    def __init__(self,\n",
    "                 strokes,\n",
    "                 stroke_lengths,\n",
    "                 text_one_hots,\n",
    "                 text_lengths):\n",
    "        self.strokes = strokes\n",
    "        self.stroke_lengths = stroke_lengths\n",
    "        self.text_one_hots = text_one_hots\n",
    "        self.text_lengths = text_lengths\n",
    "        \n",
    "    def __len__(self):\n",
    "        return self.strokes.shape[0]\n",
    "    \n",
    "    def __getitem__(self, idx):\n",
    "        return self.strokes[idx], self.stroke_lengths[idx], self.text_one_hots[idx], self.text_lengths[idx]\n",
    "    \n",
    "train_dataset = HandwritingDataset(\n",
    "    strokes[:10000],\n",
    "    stroke_lens[:10000],\n",
    "    text_one_hots[:10000],\n",
    "    text_lens[:10000])\n",
    "test_dataset = HandwritingDataset(\n",
    "    strokes[10000:],\n",
    "    stroke_lens[10000:],\n",
    "    text_one_hots[10000:],\n",
    "    text_lens[10000:])"
   ]
  },
  {
   "cell_type": "code",
   "execution_count": 13,
   "id": "aaa81815",
   "metadata": {},
   "outputs": [],
   "source": [
    "class HandWritingSynthesis(nn.Module):\n",
    "    def __init__(self,\n",
    "                 input_size,\n",
    "                 hidden_size,\n",
    "                 vocab_size,\n",
    "                 n_output_mixtures,\n",
    "                 n_attn_mixtures):\n",
    "        super(HandWritingSynthesis, self).__init__()\n",
    "        # input params\n",
    "        self.input_size = input_size\n",
    "        self.hidden_size = hidden_size\n",
    "        self.n_output_mixtures = n_output_mixtures\n",
    "        self.n_attn_mixtures = n_attn_mixtures\n",
    "        self.vocab_size = vocab_size\n",
    "        \n",
    "        # inferred sizes of layer params\n",
    "        self.output_size = 6*n_output_mixtures+1\n",
    "        self.n_attn_params = 3*n_attn_mixtures\n",
    "        \n",
    "        # Layers needed\n",
    "        \n",
    "        # First LSTM layer\n",
    "        self.lstm1 = nn.LSTMCell(\n",
    "            input_size+vocab_size, hidden_size)\n",
    "        \n",
    "        # Layer to compute attn params from hidden state\n",
    "        self.attn_params = nn.Linear(hidden_size, self.n_attn_params)\n",
    "        \n",
    "        # Second LSTM layer\n",
    "        self.lstm2 = nn.LSTMCell(\n",
    "            input_size+hidden_size+vocab_size, hidden_size)\n",
    "        \n",
    "        # Layer to compute params for output gaussian\n",
    "        self.output_params = nn.Linear(\n",
    "            2*hidden_size, self.output_size)\n",
    "        \n",
    "        \n",
    "    def forward(self,\n",
    "                stroke_point,     # (batch, input_size=3)\n",
    "                text_onehot,      # (batch, max_text_len, vocab_size)\n",
    "                text_length,      # (batch, 1)\n",
    "                h1_prev, c1_prev, # (batch, hidden_size)\n",
    "                h2_prev, c2_prev, # (batch, hidden_size)\n",
    "                attn_prev,        # (batch, vocab_size)\n",
    "                attn_kappa_old):  # (batch, n_attn_mixtures)\n",
    "        \n",
    "        # First LSTM Layer\n",
    "        h1_new, c1_new = self.lstm1(\n",
    "            torch.cat((stroke_point, attn_prev), dim=-1).to(device),\n",
    "            (h1_prev, c1_prev))\n",
    "        \n",
    "        # Attention calculations\n",
    "        attn_params = self.attn_params(h1_new) # (batch, n_attn_params)\n",
    "        \n",
    "        attn_new, attn_kappa_new, phi_new = self.calculate_attn(\n",
    "            attn_params, text_onehot, text_length, attn_kappa_old) \n",
    "        \n",
    "        # Second LSTM layer\n",
    "        h2_new, c2_new = self.lstm2(\n",
    "            torch.cat((stroke_point, h1_new, attn_new), dim=-1).to(device),\n",
    "            (h2_prev, c2_prev))\n",
    "        \n",
    "        out_params = self.output_params(torch.cat((h1_new, h2_new), dim=-1).to(device))\n",
    "        \n",
    "        return out_params, h1_new, c1_new, h2_new, c2_new, attn_new, attn_kappa_new, phi_new\n",
    "    \n",
    "    def calculate_attn(self, attn_params, text_onehot, text_length, attn_kappa_old):\n",
    "        alpha = torch.exp(attn_params[:, :self.n_attn_mixtures])\n",
    "        beta = torch.exp(attn_params[:, self.n_attn_mixtures:2*self.n_attn_mixtures])\n",
    "#         print(attn_kappa_old.shape)\n",
    "#         print(torch.exp(attn_params[:, 2*self.n_attn_mixtures:]).shape)\n",
    "        kappa = attn_kappa_old + torch.exp(attn_params[:, 2*self.n_attn_mixtures:])\n",
    "        \n",
    "        def get_phi(i):\n",
    "#             print(beta.shape, kappa.shape, alpha.shape)\n",
    "            return torch.sum(alpha * torch.exp(-beta * (kappa - i)**2), -1)\n",
    "        \n",
    "        max_len = torch.max(text_length)\n",
    "        phi = torch.zeros(alpha.shape[0], max_len, device=device)\n",
    "        for i in range(max_len):\n",
    "            phi[:,i] = get_phi(i)\n",
    "#         print(phi)\n",
    "#         print(text_onehot[:,:max_len,:].shape)\n",
    "#         print(phi.unsqueeze(-1).shape)\n",
    "#         print((text_onehot[:,:max_len,:]*phi.unsqueeze(-1)).shape)\n",
    "        attn = torch.sum(text_onehot[:,:max_len,:]*phi.unsqueeze(-1), axis=1)\n",
    "#         print(attn)\n",
    "#         print(attn.shape)\n",
    "        return attn, kappa, phi\n",
    "        "
   ]
  },
  {
   "cell_type": "code",
   "execution_count": 40,
   "id": "43e9421f",
   "metadata": {},
   "outputs": [
    {
     "data": {
      "text/plain": [
       "tensor([[1., 2., 3.],\n",
       "        [1., 2., 3.],\n",
       "        [1., 2., 3.],\n",
       "        [1., 2., 3.]])"
      ]
     },
     "execution_count": 40,
     "metadata": {},
     "output_type": "execute_result"
    },
    {
     "data": {
      "text/plain": [
       "tensor([[1, 2],\n",
       "        [2, 3],\n",
       "        [3, 4],\n",
       "        [4, 5]])"
      ]
     },
     "execution_count": 40,
     "metadata": {},
     "output_type": "execute_result"
    },
    {
     "data": {
      "text/plain": [
       "tensor([[ 0.0286,  1.6878,  1.4000],\n",
       "        [-0.2413,  1.3780,  2.3285],\n",
       "        [-1.4295, -0.5591, -0.5830],\n",
       "        [-0.5502, -0.8044, -1.6455],\n",
       "        [-2.2445, -0.7941, -1.2393]])"
      ]
     },
     "execution_count": 40,
     "metadata": {},
     "output_type": "execute_result"
    },
    {
     "data": {
      "text/plain": [
       "torch.Size([5, 3])"
      ]
     },
     "execution_count": 40,
     "metadata": {},
     "output_type": "execute_result"
    },
    {
     "data": {
      "text/plain": [
       "tensor([[ 0.0286,  1.6878,  1.4000,  0.0286,  1.6878,  1.4000,  0.0286,  1.6878,\n",
       "          1.4000,  0.0286,  1.6878,  1.4000,  0.0286,  1.6878,  1.4000,  0.0286,\n",
       "          1.6878,  1.4000,  0.0286,  1.6878,  1.4000,  0.0286,  1.6878,  1.4000,\n",
       "          0.0286,  1.6878,  1.4000],\n",
       "        [-0.2413,  1.3780,  2.3285, -0.2413,  1.3780,  2.3285, -0.2413,  1.3780,\n",
       "          2.3285, -0.2413,  1.3780,  2.3285, -0.2413,  1.3780,  2.3285, -0.2413,\n",
       "          1.3780,  2.3285, -0.2413,  1.3780,  2.3285, -0.2413,  1.3780,  2.3285,\n",
       "         -0.2413,  1.3780,  2.3285],\n",
       "        [-1.4295, -0.5591, -0.5830, -1.4295, -0.5591, -0.5830, -1.4295, -0.5591,\n",
       "         -0.5830, -1.4295, -0.5591, -0.5830, -1.4295, -0.5591, -0.5830, -1.4295,\n",
       "         -0.5591, -0.5830, -1.4295, -0.5591, -0.5830, -1.4295, -0.5591, -0.5830,\n",
       "         -1.4295, -0.5591, -0.5830],\n",
       "        [-0.5502, -0.8044, -1.6455, -0.5502, -0.8044, -1.6455, -0.5502, -0.8044,\n",
       "         -1.6455, -0.5502, -0.8044, -1.6455, -0.5502, -0.8044, -1.6455, -0.5502,\n",
       "         -0.8044, -1.6455, -0.5502, -0.8044, -1.6455, -0.5502, -0.8044, -1.6455,\n",
       "         -0.5502, -0.8044, -1.6455],\n",
       "        [-2.2445, -0.7941, -1.2393, -2.2445, -0.7941, -1.2393, -2.2445, -0.7941,\n",
       "         -1.2393, -2.2445, -0.7941, -1.2393, -2.2445, -0.7941, -1.2393, -2.2445,\n",
       "         -0.7941, -1.2393, -2.2445, -0.7941, -1.2393, -2.2445, -0.7941, -1.2393,\n",
       "         -2.2445, -0.7941, -1.2393]])"
      ]
     },
     "execution_count": 40,
     "metadata": {},
     "output_type": "execute_result"
    },
    {
     "data": {
      "text/plain": [
       "tensor([[[1, 2, 3, 4, 5, 6, 7, 8, 9],\n",
       "         [1, 2, 3, 4, 5, 6, 7, 8, 9],\n",
       "         [1, 2, 3, 4, 5, 6, 7, 8, 9]],\n",
       "\n",
       "        [[1, 2, 3, 4, 5, 6, 7, 8, 9],\n",
       "         [1, 2, 3, 4, 5, 6, 7, 8, 9],\n",
       "         [1, 2, 3, 4, 5, 6, 7, 8, 9]],\n",
       "\n",
       "        [[1, 2, 3, 4, 5, 6, 7, 8, 9],\n",
       "         [1, 2, 3, 4, 5, 6, 7, 8, 9],\n",
       "         [1, 2, 3, 4, 5, 6, 7, 8, 9]],\n",
       "\n",
       "        [[1, 2, 3, 4, 5, 6, 7, 8, 9],\n",
       "         [1, 2, 3, 4, 5, 6, 7, 8, 9],\n",
       "         [1, 2, 3, 4, 5, 6, 7, 8, 9]],\n",
       "\n",
       "        [[1, 2, 3, 4, 5, 6, 7, 8, 9],\n",
       "         [1, 2, 3, 4, 5, 6, 7, 8, 9],\n",
       "         [1, 2, 3, 4, 5, 6, 7, 8, 9]]])"
      ]
     },
     "execution_count": 40,
     "metadata": {},
     "output_type": "execute_result"
    }
   ],
   "source": [
    "a = torch.ones(4, 3)\n",
    "a[:, 2] = 3\n",
    "a[:, 1] = 2\n",
    "b = torch.tensor([[1, 2], [2, 3], [3, 4], [4, 5]])\n",
    "a \n",
    "b\n",
    "bs = 5\n",
    "K = 3\n",
    "tl = 9\n",
    "kappa = torch.randn(bs, K)\n",
    "alpha = torch.randn(bs, K)\n",
    "beta = torch.randn(bs, K)\n",
    "kappa\n",
    "kappa.shape\n",
    "kappa.repeat(1,  tl)\n",
    "torch.arange(1, 10).repeat(3,1).repeat(5,1,1)"
   ]
  },
  {
   "cell_type": "code",
   "execution_count": 55,
   "id": "c4db4d54",
   "metadata": {},
   "outputs": [],
   "source": [
    "def negative_log_likelihood(batch_params,       # (batch_size, 6*n_output_mixtures+1)\n",
    "                            batch_targets,      # (batch_size, 3)\n",
    "                            n_output_mixtures,\n",
    "                            args):  \n",
    "    batch_size = batch_params.shape[0]\n",
    "    \n",
    "    K = args[\"n_output_mixtures\"]\n",
    "\n",
    "    # end of stroke probability, last colmn in the params\n",
    "    es = 1/(1 + torch.exp(batch_params[:,-1]))    # (batch_size, 1)\n",
    "    \n",
    "    # mixture weights\n",
    "    pis = nn.Softmax(1)(batch_params[:,0:K]) # (batch_size, n_output_mixtures)\n",
    "    \n",
    "    # Means, sigmas and correlations of the mixture gaussians\n",
    "    mus = batch_params[:, K:3*K].reshape(-1, K, 2)            # (batch_size, n_output_mixtures, 2)\n",
    "    sigmas = torch.exp(batch_params[:, 3*K:5*K].reshape(-1, K, 2))  # (batch_size, n_output_mixtures, 2)\n",
    "    phos = torch.tanh(batch_params[:, 5*K:6*K].reshape(-1, K, 1))   # (batch_size, n_output_mixtures, 1)\n",
    "\n",
    "    # Calculate covariance matrices for the mixture gaussians\n",
    "    covs = torch.zeros(batch_size, K, 2, 2, device=args[\"device\"])    # (batch_size, n_output_mixtures, 2, 2)\n",
    "    covs[:,:,0,0] = sigmas[:,:,0] ** 2\n",
    "    covs[:,:,0,1] = sigmas[:,:,0] * sigmas[:,:,1] * phos[:,:,0]\n",
    "    covs[:,:,1,0] = covs[:,:,0,1]\n",
    "    covs[:,:,1,1] = sigmas[:,:,1] ** 2\n",
    "\n",
    "    # multivariate gaussians for each all means and covariance matrices\n",
    "    distributions = torch.distributions.MultivariateNormal(mus, covs)  # (batch_size, n_output_mixtures)\n",
    "\n",
    "    target_coords = batch_targets[:,0:2].unsqueeze(1).repeat_interleave(  \n",
    "        torch.tensor([K], device=device), dim=1)           # (batch_size, n_output_mixtures, 2)\n",
    "    stroke_lift = batch_targets[:,-1]                            # (batch_size, 1)\n",
    "\n",
    "    eps = 1e-8\n",
    "    probs = torch.exp(distributions.log_prob(target_coords) + eps)   # (batch_size, n_output_mixtures)\n",
    "    #probs = torch.where(probs < 0.000000001, torch.zeros_like(probs) + 0.000000001, probs)\n",
    "\n",
    "    batch_loss = - (torch.logsumexp(torch.log(pis) + probs, dim=1)).sum() - (torch.log(es)*stroke_lift).sum() - (torch.log(1 - es)*(1-stroke_lift)).sum()\n",
    "    return batch_loss/batch_size"
   ]
  },
  {
   "cell_type": "code",
   "execution_count": 56,
   "id": "3826b9fa",
   "metadata": {},
   "outputs": [
    {
     "data": {
      "text/plain": [
       "tensor([2.2228, 1.9294])"
      ]
     },
     "execution_count": 56,
     "metadata": {},
     "output_type": "execute_result"
    },
    {
     "data": {
      "text/plain": [
       "tensor([2.2228, 1.9294])"
      ]
     },
     "execution_count": 56,
     "metadata": {},
     "output_type": "execute_result"
    },
    {
     "data": {
      "text/plain": [
       "tensor([[ 0.5551, -0.8168,  1.0730,  0.4447,  0.9421],\n",
       "        [ 0.3232,  1.0355, -0.1727,  0.3427, -0.8272]])"
      ]
     },
     "execution_count": 56,
     "metadata": {},
     "output_type": "execute_result"
    }
   ],
   "source": [
    "pis = torch.abs(torch.randn(2, 5))\n",
    "probs = torch.abs(torch.randn(2, 5))\n",
    "torch.log((pis*torch.exp(probs)).sum(dim=1))\n",
    "torch.logsumexp(torch.log(pis) + probs, dim=1)\n",
    "torch.log(pis) + probs"
   ]
  },
  {
   "cell_type": "code",
   "execution_count": 57,
   "id": "565af161",
   "metadata": {},
   "outputs": [],
   "source": [
    "def get_batch_sizes(strokes, stroke_lengths, text_onehots, text_lengths):\n",
    "    \n",
    "    stroke_lengths_sorted, perm_idx = stroke_lengths.sort(0, descending=True)\n",
    "    \n",
    "    strokes_sorted = strokes[perm_idx]\n",
    "    text_onehots_sorted = text_onehots[perm_idx]\n",
    "    text_lengths_sorted = text_lengths[perm_idx]\n",
    "    \n",
    "    bs = strokes.shape[0]\n",
    "    num_timesteps = torch.max(stroke_lengths)-1\n",
    "    \n",
    "    batch_sizes = torch.tensor([bs] * num_timesteps, device=device)\n",
    "    for i in range(len(stroke_lengths_sorted)-1, 0, -1):\n",
    "        bs -= 1\n",
    "        batch_sizes[stroke_lengths_sorted[i]-1:stroke_lengths_sorted[i-1]-1] = bs\n",
    "    return strokes_sorted, stroke_lengths_sorted, text_onehots_sorted, text_lengths_sorted, batch_sizes\n",
    "    "
   ]
  },
  {
   "cell_type": "code",
   "execution_count": 58,
   "id": "3139a1ad",
   "metadata": {},
   "outputs": [],
   "source": [
    "def train(model,\n",
    "          strokes,\n",
    "          stroke_lengths,\n",
    "          text_onehots,\n",
    "          text_lengths,\n",
    "          optimizer,\n",
    "          args,\n",
    "          h1, c1, h2, c2, attn, attn_kappa):\n",
    "    optimizer.zero_grad()\n",
    "    strokes = strokes.to(args[\"device\"])\n",
    "    stroke_lengths = stroke_lengths.to(args[\"device\"])\n",
    "    text_onehots = text_onehots.to(args[\"device\"])\n",
    "    text_lengths = text_lengths.to(args[\"device\"])\n",
    "    \n",
    "    # prepare so that we can handle varying length inputs in training\n",
    "    strokes, stroke_lengths, text_onehots, text_lengths, batch_sizes = get_batch_sizes(\n",
    "        strokes, stroke_lengths, text_onehots, text_lengths)\n",
    "    \n",
    "    loss = 0\n",
    "    # At timestamp t, we have to look at only batch_sizes[t] entries\n",
    "    for t in range(len(batch_sizes)):\n",
    "        bs = batch_sizes[t]\n",
    "        out_params, h1, c1, h2, c2, attn, attn_kappa, phi_new = model(\n",
    "            stroke_point=strokes[:bs,t],\n",
    "            text_onehot=text_onehots[:bs],\n",
    "            text_length=text_lengths[:bs],\n",
    "            h1_prev=h1[:bs],\n",
    "            c1_prev=c1[:bs],\n",
    "            h2_prev=h2[:bs],\n",
    "            c2_prev=c2[:bs],\n",
    "            attn_prev=attn[:bs],\n",
    "            attn_kappa_old=attn_kappa[:bs])\n",
    "        \n",
    "        loss += negative_log_likelihood(\n",
    "            out_params,\n",
    "            strokes[:bs, t+1],\n",
    "            args[\"n_output_mixtures\"],\n",
    "            args)\n",
    "        \n",
    "    loss /= len(batch_sizes)\n",
    "    loss.backward()\n",
    "    \n",
    "    # Gradient clipping\n",
    "    torch.nn.utils.clip_grad_norm_(model.parameters(), 10)\n",
    "    optimizer.step()\n",
    "    return loss.item()\n"
   ]
  },
  {
   "cell_type": "code",
   "execution_count": 59,
   "id": "86e6eee1",
   "metadata": {},
   "outputs": [
    {
     "data": {
      "text/plain": [
       "HandWritingSynthesis(\n",
       "  (lstm1): LSTMCell(76, 500)\n",
       "  (attn_params): Linear(in_features=500, out_features=9, bias=True)\n",
       "  (lstm2): LSTMCell(576, 500)\n",
       "  (output_params): Linear(in_features=1000, out_features=121, bias=True)\n",
       ")"
      ]
     },
     "execution_count": 59,
     "metadata": {},
     "output_type": "execute_result"
    },
    {
     "name": "stdout",
     "output_type": "stream",
     "text": [
      "cuda:0\n"
     ]
    }
   ],
   "source": [
    "# parameters\n",
    "\n",
    "args = {}\n",
    "args[\"input_size\"] = 3\n",
    "args[\"hidden_size\"] = 500\n",
    "args[\"vocab_size\"] = text_one_hots.shape[-1]\n",
    "args[\"n_output_mixtures\"] = 20\n",
    "args[\"n_attn_mixtures\"] = 3\n",
    "args[\"batch_size\"] = 64\n",
    "args[\"device\"] = device\n",
    "args[\"n_epochs\"] = 3\n",
    "args[\"lr\"] = 0.00001\n",
    "\n",
    "train_dataloader = DataLoader(train_dataset, shuffle=True, batch_size=args[\"batch_size\"])\n",
    "test_dataloader = DataLoader(test_dataset, shuffle=True, batch_size=args[\"batch_size\"])\n",
    "\n",
    "model = HandWritingSynthesis(args[\"input_size\"],\n",
    "                             args[\"hidden_size\"],\n",
    "                             args[\"vocab_size\"],\n",
    "                             args[\"n_output_mixtures\"],\n",
    "                             args[\"n_attn_mixtures\"])\n",
    "model.to(device)\n",
    "\n",
    "optim = torch.optim.Adam(model.parameters(), lr = args[\"lr\"])\n",
    "\n",
    "print(args[\"device\"])"
   ]
  },
  {
   "cell_type": "code",
   "execution_count": 60,
   "id": "046130cf",
   "metadata": {
    "scrolled": true
   },
   "outputs": [
    {
     "name": "stdout",
     "output_type": "stream",
     "text": [
      "n_iter: 0 of 471, loss: 0.12225134372711181, timeElapsed: 4.463471412658691\n",
      "n_iter: 5 of 471, loss: 0.608712112903595, timeElapsed: 28.11031222343445\n",
      "n_iter: 10 of 471, loss: 0.6049850225448609, timeElapsed: 51.48257780075073\n"
     ]
    },
    {
     "ename": "KeyboardInterrupt",
     "evalue": "",
     "output_type": "error",
     "traceback": [
      "\u001b[0;31m---------------------------------------------------------------------------\u001b[0m",
      "\u001b[0;31mKeyboardInterrupt\u001b[0m                         Traceback (most recent call last)",
      "\u001b[0;32m/tmp/ipykernel_1778/90364644.py\u001b[0m in \u001b[0;36m<module>\u001b[0;34m\u001b[0m\n\u001b[1;32m     17\u001b[0m \u001b[0;32mfor\u001b[0m \u001b[0mi\u001b[0m \u001b[0;32min\u001b[0m \u001b[0mrange\u001b[0m\u001b[0;34m(\u001b[0m\u001b[0margs\u001b[0m\u001b[0;34m[\u001b[0m\u001b[0;34m\"n_epochs\"\u001b[0m\u001b[0;34m]\u001b[0m\u001b[0;34m)\u001b[0m\u001b[0;34m:\u001b[0m\u001b[0;34m\u001b[0m\u001b[0;34m\u001b[0m\u001b[0m\n\u001b[1;32m     18\u001b[0m     \u001b[0;32mfor\u001b[0m \u001b[0mstrokes\u001b[0m\u001b[0;34m,\u001b[0m \u001b[0mstroke_lengths\u001b[0m\u001b[0;34m,\u001b[0m \u001b[0mtext_onehots\u001b[0m\u001b[0;34m,\u001b[0m \u001b[0mtext_lengths\u001b[0m \u001b[0;32min\u001b[0m \u001b[0mtrain_dataloader\u001b[0m\u001b[0;34m:\u001b[0m\u001b[0;34m\u001b[0m\u001b[0;34m\u001b[0m\u001b[0m\n\u001b[0;32m---> 19\u001b[0;31m         loss = train(model,\n\u001b[0m\u001b[1;32m     20\u001b[0m                      \u001b[0mstrokes\u001b[0m\u001b[0;34m,\u001b[0m\u001b[0;34m\u001b[0m\u001b[0;34m\u001b[0m\u001b[0m\n\u001b[1;32m     21\u001b[0m                      \u001b[0mstroke_lengths\u001b[0m\u001b[0;34m,\u001b[0m\u001b[0;34m\u001b[0m\u001b[0;34m\u001b[0m\u001b[0m\n",
      "\u001b[0;32m/tmp/ipykernel_1778/29597685.py\u001b[0m in \u001b[0;36mtrain\u001b[0;34m(model, strokes, stroke_lengths, text_onehots, text_lengths, optimizer, args, h1, c1, h2, c2, attn, attn_kappa)\u001b[0m\n\u001b[1;32m     21\u001b[0m     \u001b[0;32mfor\u001b[0m \u001b[0mt\u001b[0m \u001b[0;32min\u001b[0m \u001b[0mrange\u001b[0m\u001b[0;34m(\u001b[0m\u001b[0mlen\u001b[0m\u001b[0;34m(\u001b[0m\u001b[0mbatch_sizes\u001b[0m\u001b[0;34m)\u001b[0m\u001b[0;34m)\u001b[0m\u001b[0;34m:\u001b[0m\u001b[0;34m\u001b[0m\u001b[0;34m\u001b[0m\u001b[0m\n\u001b[1;32m     22\u001b[0m         \u001b[0mbs\u001b[0m \u001b[0;34m=\u001b[0m \u001b[0mbatch_sizes\u001b[0m\u001b[0;34m[\u001b[0m\u001b[0mt\u001b[0m\u001b[0;34m]\u001b[0m\u001b[0;34m\u001b[0m\u001b[0;34m\u001b[0m\u001b[0m\n\u001b[0;32m---> 23\u001b[0;31m         out_params, h1, c1, h2, c2, attn, attn_kappa, phi_new = model(\n\u001b[0m\u001b[1;32m     24\u001b[0m             \u001b[0mstroke_point\u001b[0m\u001b[0;34m=\u001b[0m\u001b[0mstrokes\u001b[0m\u001b[0;34m[\u001b[0m\u001b[0;34m:\u001b[0m\u001b[0mbs\u001b[0m\u001b[0;34m,\u001b[0m\u001b[0mt\u001b[0m\u001b[0;34m]\u001b[0m\u001b[0;34m,\u001b[0m\u001b[0;34m\u001b[0m\u001b[0;34m\u001b[0m\u001b[0m\n\u001b[1;32m     25\u001b[0m             \u001b[0mtext_onehot\u001b[0m\u001b[0;34m=\u001b[0m\u001b[0mtext_onehots\u001b[0m\u001b[0;34m[\u001b[0m\u001b[0;34m:\u001b[0m\u001b[0mbs\u001b[0m\u001b[0;34m]\u001b[0m\u001b[0;34m,\u001b[0m\u001b[0;34m\u001b[0m\u001b[0;34m\u001b[0m\u001b[0m\n",
      "\u001b[0;32m/home/miniconda3/lib/python3.8/site-packages/torch/nn/modules/module.py\u001b[0m in \u001b[0;36m_call_impl\u001b[0;34m(self, *input, **kwargs)\u001b[0m\n\u001b[1;32m   1058\u001b[0m         if not (self._backward_hooks or self._forward_hooks or self._forward_pre_hooks or _global_backward_hooks\n\u001b[1;32m   1059\u001b[0m                 or _global_forward_hooks or _global_forward_pre_hooks):\n\u001b[0;32m-> 1060\u001b[0;31m             \u001b[0;32mreturn\u001b[0m \u001b[0mforward_call\u001b[0m\u001b[0;34m(\u001b[0m\u001b[0;34m*\u001b[0m\u001b[0minput\u001b[0m\u001b[0;34m,\u001b[0m \u001b[0;34m**\u001b[0m\u001b[0mkwargs\u001b[0m\u001b[0;34m)\u001b[0m\u001b[0;34m\u001b[0m\u001b[0;34m\u001b[0m\u001b[0m\n\u001b[0m\u001b[1;32m   1061\u001b[0m         \u001b[0;31m# Do not call functions when jit is used\u001b[0m\u001b[0;34m\u001b[0m\u001b[0;34m\u001b[0m\u001b[0;34m\u001b[0m\u001b[0m\n\u001b[1;32m   1062\u001b[0m         \u001b[0mfull_backward_hooks\u001b[0m\u001b[0;34m,\u001b[0m \u001b[0mnon_full_backward_hooks\u001b[0m \u001b[0;34m=\u001b[0m \u001b[0;34m[\u001b[0m\u001b[0;34m]\u001b[0m\u001b[0;34m,\u001b[0m \u001b[0;34m[\u001b[0m\u001b[0;34m]\u001b[0m\u001b[0;34m\u001b[0m\u001b[0;34m\u001b[0m\u001b[0m\n",
      "\u001b[0;32m/tmp/ipykernel_1778/1413666938.py\u001b[0m in \u001b[0;36mforward\u001b[0;34m(self, stroke_point, text_onehot, text_length, h1_prev, c1_prev, h2_prev, c2_prev, attn_prev, attn_kappa_old)\u001b[0m\n\u001b[1;32m     51\u001b[0m \u001b[0;34m\u001b[0m\u001b[0m\n\u001b[1;32m     52\u001b[0m         \u001b[0;31m# Attention calculations\u001b[0m\u001b[0;34m\u001b[0m\u001b[0;34m\u001b[0m\u001b[0;34m\u001b[0m\u001b[0m\n\u001b[0;32m---> 53\u001b[0;31m         \u001b[0mattn_params\u001b[0m \u001b[0;34m=\u001b[0m \u001b[0mself\u001b[0m\u001b[0;34m.\u001b[0m\u001b[0mattn_params\u001b[0m\u001b[0;34m(\u001b[0m\u001b[0mh1_new\u001b[0m\u001b[0;34m)\u001b[0m \u001b[0;31m# (batch, n_attn_params)\u001b[0m\u001b[0;34m\u001b[0m\u001b[0;34m\u001b[0m\u001b[0m\n\u001b[0m\u001b[1;32m     54\u001b[0m \u001b[0;34m\u001b[0m\u001b[0m\n\u001b[1;32m     55\u001b[0m         attn_new, attn_kappa_new, phi_new = self.calculate_attn(\n",
      "\u001b[0;32m/home/miniconda3/lib/python3.8/site-packages/torch/nn/modules/module.py\u001b[0m in \u001b[0;36m_call_impl\u001b[0;34m(self, *input, **kwargs)\u001b[0m\n\u001b[1;32m   1058\u001b[0m         if not (self._backward_hooks or self._forward_hooks or self._forward_pre_hooks or _global_backward_hooks\n\u001b[1;32m   1059\u001b[0m                 or _global_forward_hooks or _global_forward_pre_hooks):\n\u001b[0;32m-> 1060\u001b[0;31m             \u001b[0;32mreturn\u001b[0m \u001b[0mforward_call\u001b[0m\u001b[0;34m(\u001b[0m\u001b[0;34m*\u001b[0m\u001b[0minput\u001b[0m\u001b[0;34m,\u001b[0m \u001b[0;34m**\u001b[0m\u001b[0mkwargs\u001b[0m\u001b[0;34m)\u001b[0m\u001b[0;34m\u001b[0m\u001b[0;34m\u001b[0m\u001b[0m\n\u001b[0m\u001b[1;32m   1061\u001b[0m         \u001b[0;31m# Do not call functions when jit is used\u001b[0m\u001b[0;34m\u001b[0m\u001b[0;34m\u001b[0m\u001b[0;34m\u001b[0m\u001b[0m\n\u001b[1;32m   1062\u001b[0m         \u001b[0mfull_backward_hooks\u001b[0m\u001b[0;34m,\u001b[0m \u001b[0mnon_full_backward_hooks\u001b[0m \u001b[0;34m=\u001b[0m \u001b[0;34m[\u001b[0m\u001b[0;34m]\u001b[0m\u001b[0;34m,\u001b[0m \u001b[0;34m[\u001b[0m\u001b[0;34m]\u001b[0m\u001b[0;34m\u001b[0m\u001b[0;34m\u001b[0m\u001b[0m\n",
      "\u001b[0;32m/home/miniconda3/lib/python3.8/site-packages/torch/nn/modules/linear.py\u001b[0m in \u001b[0;36mforward\u001b[0;34m(self, input)\u001b[0m\n\u001b[1;32m     97\u001b[0m \u001b[0;34m\u001b[0m\u001b[0m\n\u001b[1;32m     98\u001b[0m     \u001b[0;32mdef\u001b[0m \u001b[0mforward\u001b[0m\u001b[0;34m(\u001b[0m\u001b[0mself\u001b[0m\u001b[0;34m,\u001b[0m \u001b[0minput\u001b[0m\u001b[0;34m:\u001b[0m \u001b[0mTensor\u001b[0m\u001b[0;34m)\u001b[0m \u001b[0;34m->\u001b[0m \u001b[0mTensor\u001b[0m\u001b[0;34m:\u001b[0m\u001b[0;34m\u001b[0m\u001b[0;34m\u001b[0m\u001b[0m\n\u001b[0;32m---> 99\u001b[0;31m         \u001b[0;32mreturn\u001b[0m \u001b[0mF\u001b[0m\u001b[0;34m.\u001b[0m\u001b[0mlinear\u001b[0m\u001b[0;34m(\u001b[0m\u001b[0minput\u001b[0m\u001b[0;34m,\u001b[0m \u001b[0mself\u001b[0m\u001b[0;34m.\u001b[0m\u001b[0mweight\u001b[0m\u001b[0;34m,\u001b[0m \u001b[0mself\u001b[0m\u001b[0;34m.\u001b[0m\u001b[0mbias\u001b[0m\u001b[0;34m)\u001b[0m\u001b[0;34m\u001b[0m\u001b[0;34m\u001b[0m\u001b[0m\n\u001b[0m\u001b[1;32m    100\u001b[0m \u001b[0;34m\u001b[0m\u001b[0m\n\u001b[1;32m    101\u001b[0m     \u001b[0;32mdef\u001b[0m \u001b[0mextra_repr\u001b[0m\u001b[0;34m(\u001b[0m\u001b[0mself\u001b[0m\u001b[0;34m)\u001b[0m \u001b[0;34m->\u001b[0m \u001b[0mstr\u001b[0m\u001b[0;34m:\u001b[0m\u001b[0;34m\u001b[0m\u001b[0;34m\u001b[0m\u001b[0m\n",
      "\u001b[0;32m/home/miniconda3/lib/python3.8/site-packages/torch/nn/functional.py\u001b[0m in \u001b[0;36mlinear\u001b[0;34m(input, weight, bias)\u001b[0m\n\u001b[1;32m   1845\u001b[0m     \u001b[0;32mif\u001b[0m \u001b[0mhas_torch_function_variadic\u001b[0m\u001b[0;34m(\u001b[0m\u001b[0minput\u001b[0m\u001b[0;34m,\u001b[0m \u001b[0mweight\u001b[0m\u001b[0;34m)\u001b[0m\u001b[0;34m:\u001b[0m\u001b[0;34m\u001b[0m\u001b[0;34m\u001b[0m\u001b[0m\n\u001b[1;32m   1846\u001b[0m         \u001b[0;32mreturn\u001b[0m \u001b[0mhandle_torch_function\u001b[0m\u001b[0;34m(\u001b[0m\u001b[0mlinear\u001b[0m\u001b[0;34m,\u001b[0m \u001b[0;34m(\u001b[0m\u001b[0minput\u001b[0m\u001b[0;34m,\u001b[0m \u001b[0mweight\u001b[0m\u001b[0;34m)\u001b[0m\u001b[0;34m,\u001b[0m \u001b[0minput\u001b[0m\u001b[0;34m,\u001b[0m \u001b[0mweight\u001b[0m\u001b[0;34m,\u001b[0m \u001b[0mbias\u001b[0m\u001b[0;34m=\u001b[0m\u001b[0mbias\u001b[0m\u001b[0;34m)\u001b[0m\u001b[0;34m\u001b[0m\u001b[0;34m\u001b[0m\u001b[0m\n\u001b[0;32m-> 1847\u001b[0;31m     \u001b[0;32mreturn\u001b[0m \u001b[0mtorch\u001b[0m\u001b[0;34m.\u001b[0m\u001b[0m_C\u001b[0m\u001b[0;34m.\u001b[0m\u001b[0m_nn\u001b[0m\u001b[0;34m.\u001b[0m\u001b[0mlinear\u001b[0m\u001b[0;34m(\u001b[0m\u001b[0minput\u001b[0m\u001b[0;34m,\u001b[0m \u001b[0mweight\u001b[0m\u001b[0;34m,\u001b[0m \u001b[0mbias\u001b[0m\u001b[0;34m)\u001b[0m\u001b[0;34m\u001b[0m\u001b[0;34m\u001b[0m\u001b[0m\n\u001b[0m\u001b[1;32m   1848\u001b[0m \u001b[0;34m\u001b[0m\u001b[0m\n\u001b[1;32m   1849\u001b[0m \u001b[0;34m\u001b[0m\u001b[0m\n",
      "\u001b[0;31mKeyboardInterrupt\u001b[0m: "
     ]
    }
   ],
   "source": [
    "print_every = 5\n",
    "n_iters = 0\n",
    "losses = []\n",
    "total_loss = 0\n",
    "n_epochs = args[\"n_epochs\"]\n",
    "\n",
    "import time\n",
    "start = time.time()\n",
    "\n",
    "h1 = torch.zeros(args[\"batch_size\"], args[\"hidden_size\"], device=args[\"device\"])\n",
    "c1 = torch.zeros(args[\"batch_size\"], args[\"hidden_size\"], device=args[\"device\"])\n",
    "h2 = torch.zeros(args[\"batch_size\"], args[\"hidden_size\"], device=args[\"device\"])\n",
    "c2 = torch.zeros(args[\"batch_size\"], args[\"hidden_size\"], device=args[\"device\"])\n",
    "attn = torch.zeros(args[\"batch_size\"], args[\"vocab_size\"], device=args[\"device\"])\n",
    "attn_kappa = torch.zeros(args[\"batch_size\"], args[\"n_attn_mixtures\"], device=args[\"device\"])\n",
    "\n",
    "for i in range(args[\"n_epochs\"]):\n",
    "    for strokes, stroke_lengths, text_onehots, text_lengths in train_dataloader:\n",
    "        loss = train(model,\n",
    "                     strokes,\n",
    "                     stroke_lengths,\n",
    "                     text_onehots,\n",
    "                     text_lengths,\n",
    "                     optim,\n",
    "                     args,\n",
    "                     h1, c1, h2, c2, attn, attn_kappa)\n",
    "        \n",
    "        total_loss += loss\n",
    "        \n",
    "        if n_iters % print_every == 0:\n",
    "            losses.append(total_loss/print_every)\n",
    "            total_loss = 0\n",
    "            print(f\"n_iter: {n_iters} of {len(train_dataloader)*n_epochs}, loss: {losses[-1]}, timeElapsed: {time.time() - start}\")\n",
    "            torch.save({\n",
    "                    'epoch': i,\n",
    "                    'model_state_dict': model.state_dict(),\n",
    "                    'optimizer_state_dict': optim.state_dict(),\n",
    "                    'loss': losses[-1],\n",
    "                    }, \"/u/home/lyrebird_code/handwriting_synthesis/model_checkpoints/model_with_attention_bs_64_vect_attn.pt\")\n",
    "        n_iters += 1\n",
    "        \n",
    "import matplotlib.pyplot as plt\n",
    "\n",
    "plt.figure()\n",
    "plt.plot(losses[1:])"
   ]
  },
  {
   "cell_type": "code",
   "execution_count": null,
   "id": "bcf1b584",
   "metadata": {},
   "outputs": [],
   "source": []
  },
  {
   "cell_type": "code",
   "execution_count": null,
   "id": "5fdc9b1c",
   "metadata": {},
   "outputs": [],
   "source": []
  },
  {
   "cell_type": "code",
   "execution_count": null,
   "id": "4276df1c",
   "metadata": {},
   "outputs": [],
   "source": []
  },
  {
   "cell_type": "code",
   "execution_count": null,
   "id": "7e22a699",
   "metadata": {},
   "outputs": [],
   "source": []
  },
  {
   "cell_type": "code",
   "execution_count": null,
   "id": "23752d3f",
   "metadata": {},
   "outputs": [],
   "source": [
    "def attention_plot(phis):\n",
    "    plt.rcParams[\"figure.figsize\"] = (12,6)\n",
    "    phis= phis/(np.sum(phis, axis = 0, keepdims=True))\n",
    "    plt.xlabel('handwriting generation')\n",
    "    plt.ylabel('text scanning')\n",
    "    plt.imshow(phis, cmap='hot', interpolation='nearest', aspect='auto')\n",
    "    plt.show()"
   ]
  }
 ],
 "metadata": {
  "kernelspec": {
   "display_name": "Python 3 (ipykernel)",
   "language": "python",
   "name": "python3"
  },
  "language_info": {
   "codemirror_mode": {
    "name": "ipython",
    "version": 3
   },
   "file_extension": ".py",
   "mimetype": "text/x-python",
   "name": "python",
   "nbconvert_exporter": "python",
   "pygments_lexer": "ipython3",
   "version": "3.8.10"
  }
 },
 "nbformat": 4,
 "nbformat_minor": 5
}
