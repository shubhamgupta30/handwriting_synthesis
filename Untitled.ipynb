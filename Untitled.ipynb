{
 "cells": [
  {
   "cell_type": "code",
   "execution_count": 3,
   "id": "66ed10eb",
   "metadata": {},
   "outputs": [],
   "source": [
    "from einops import rearrange\n",
    "import torch"
   ]
  },
  {
   "cell_type": "code",
   "execution_count": 6,
   "id": "8ba8c821",
   "metadata": {},
   "outputs": [
    {
     "name": "stdout",
     "output_type": "stream",
     "text": [
      "tensor([[[-0.4318,  0.1436,  1.0114, -0.2473],\n",
      "         [-2.6963,  0.6131,  0.5494, -0.7126],\n",
      "         [ 0.8034, -0.0341, -1.7918, -1.0362]],\n",
      "\n",
      "        [[ 1.3863, -1.6985, -1.3109, -0.7257],\n",
      "         [ 0.7119, -0.7768, -0.0321,  0.5818],\n",
      "         [-1.8786,  0.3771, -0.7833, -0.9596]]])\n",
      "torch.Size([6, 4])\n",
      "tensor([[-0.4318,  0.1436,  1.0114, -0.2473],\n",
      "        [-2.6963,  0.6131,  0.5494, -0.7126],\n",
      "        [ 0.8034, -0.0341, -1.7918, -1.0362],\n",
      "        [ 1.3863, -1.6985, -1.3109, -0.7257],\n",
      "        [ 0.7119, -0.7768, -0.0321,  0.5818],\n",
      "        [-1.8786,  0.3771, -0.7833, -0.9596]])\n"
     ]
    }
   ],
   "source": [
    "a = torch.randn(2, 3, 4)\n",
    "print(a)\n",
    "\n",
    "b = rearrange(a, 'b l h -> (b l) h')\n",
    "print(b.shape)\n",
    "print(b)"
   ]
  },
  {
   "cell_type": "code",
   "execution_count": null,
   "id": "c06d9e61",
   "metadata": {},
   "outputs": [],
   "source": []
  }
 ],
 "metadata": {
  "kernelspec": {
   "display_name": "Python 3 (ipykernel)",
   "language": "python",
   "name": "python3"
  },
  "language_info": {
   "codemirror_mode": {
    "name": "ipython",
    "version": 3
   },
   "file_extension": ".py",
   "mimetype": "text/x-python",
   "name": "python",
   "nbconvert_exporter": "python",
   "pygments_lexer": "ipython3",
   "version": "3.8.10"
  }
 },
 "nbformat": 4,
 "nbformat_minor": 5
}
