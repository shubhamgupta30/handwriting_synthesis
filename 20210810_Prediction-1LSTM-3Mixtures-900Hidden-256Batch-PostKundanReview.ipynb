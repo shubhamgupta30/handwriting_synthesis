{
 "cells": [
  {
   "cell_type": "code",
   "execution_count": 38,
   "id": "48bd4999",
   "metadata": {},
   "outputs": [
    {
     "name": "stdout",
     "output_type": "stream",
     "text": [
      "cuda:2\n"
     ]
    }
   ],
   "source": [
    "import drawing\n",
    "import numpy as np\n",
    "\n",
    "import os\n",
    "\n",
    "import torch \n",
    "from torch import tensor\n",
    "import torch.nn as nn\n",
    "from torch.utils.data import Dataset, DataLoader\n",
    "from torch.nn.utils.rnn import pack_padded_sequence, pad_packed_sequence\n",
    "import matplotlib.pyplot as plt\n",
    "\n",
    "import time\n",
    "\n",
    "from IPython.core.interactiveshell import InteractiveShell\n",
    "InteractiveShell.ast_node_interactivity = \"all\"\n",
    "\n",
    "device = 'cuda:2' if torch.cuda.is_available() else 'cpu'\n",
    "print(device)\n",
    "\n",
    "n_mixtures = 3\n",
    "hidden_size = 900\n",
    "input_size = 3\n",
    "batch_size = 256\n",
    "n_epochs = 1000\n",
    "max_length = 1200\n",
    "lr = 1e-3\n",
    "model_name = \"20210810_Prediction-1LSTM-3Mixtures-900Hidden-256Batch-PostKundanReview\"\n"
   ]
  },
  {
   "cell_type": "code",
   "execution_count": 39,
   "id": "f45785b6",
   "metadata": {},
   "outputs": [],
   "source": [
    "data_dir = \"data\"\n",
    "data = [np.load(os.path.join(data_dir, '{}.npy'.format(i))) for i in ['x', 'x_len', 'c', 'c_len', 'w_id']]\n",
    "strokes_og = data[0]\n",
    "stroke_lens = data[1]\n",
    "strings = data[2]\n",
    "string_lens = data[3]\n",
    "w_id = data[4]"
   ]
  },
  {
   "cell_type": "code",
   "execution_count": 40,
   "id": "760aad31",
   "metadata": {
    "scrolled": false
   },
   "outputs": [],
   "source": [
    "# plt.plot(sorted(stroke_lens))\n",
    "# plt.show()\n",
    "# x = strokes_og[:,:,0].flatten()\n",
    "# x = x[x!=0]\n",
    "# x = x[x<5]\n",
    "# x = x[x>-5]\n",
    "# x = np.array(sorted(x))\n",
    "# x.shape\n",
    "# plt.plot(x)\n",
    "# plt.show()\n",
    "# plt.plot(np.log(x))\n",
    "# plt.show()\n",
    "# _=plt.hist(x, bins=100)\n",
    "# plt.show()\n",
    "# y = strokes_og[:,:,1].flatten()\n",
    "# y = y[y!=0]\n",
    "# y = y[y<5]\n",
    "# y = y[y>-5]\n",
    "# y = np.array(sorted(y))\n",
    "# y.shape\n",
    "# plt.plot(y)\n",
    "# plt.show()\n",
    "# plt.plot(np.log(y))\n",
    "# plt.show()\n",
    "# _=plt.hist(y, bins=100)"
   ]
  },
  {
   "cell_type": "code",
   "execution_count": 41,
   "id": "aa588523",
   "metadata": {},
   "outputs": [],
   "source": [
    "def standarize(strokes, lengths):\n",
    "    points_to_consider = np.zeros((lengths.sum() - 2*len(lengths), 2))\n",
    "    idx = 0\n",
    "    for i in range(0, len(lengths)):\n",
    "        #print(strokes[i][1:lengths[i], 0:2].shape)\n",
    "        points_to_consider[idx:idx+lengths[i]-2] = strokes[i][1:lengths[i]-1, 0:2]\n",
    "        idx += lengths[i] - 2\n",
    "    means = points_to_consider.mean(axis=0)\n",
    "    std = points_to_consider.std(axis=0)\n",
    "    \n",
    "    result = strokes.copy()\n",
    "    for i in range(len(lengths)):\n",
    "        result[i, 1:lengths[i]-1, 0:2] -= means\n",
    "        result[i, 1:lengths[i]-1, 0:2] /= std\n",
    "    return result, means, std\n",
    "\n",
    "def destandarize(strokes_standarized, lengths, means, std):\n",
    "    result = strokes_standarized.copy()\n",
    "    for i in range(len(lengths)):\n",
    "        result[i, 1:lengths[i]-1, 0:2] *= std\n",
    "        result[i, 1:lengths[i]-1, 0:2] += means\n",
    "    return result\n",
    "\n",
    "def preprocess(strokes_og, stroke_lens, strings, string_lengths):\n",
    "    # My preprocesisng is simple - all strokes start with (0, 0, 0) nd end with (0, 0, 1)\n",
    "\n",
    "    # to this end we remove all full length strokes to make space for the end \n",
    "    # (0, 0, 1) as the end point\n",
    "\n",
    "    indices = stroke_lens != 1200\n",
    "    strokes_og = strokes_og[indices]\n",
    "    stroke_lens = stroke_lens[indices]\n",
    "    strings = strings[indices]\n",
    "    string_lengths = string_lengths[indices]\n",
    "\n",
    "    # Now we make sure that every stroke has the correct \n",
    "    # start point of (0, 0, 0) and end point of (0, 0, 1)\n",
    "    strokes_og[:,0,2] = 0\n",
    "    for i in range(strokes_og.shape[0]):\n",
    "        strokes_og[i, stroke_lens[i], 2] = 1\n",
    "    stroke_lens += 1\n",
    "    \n",
    "    # Standarize the coordinates separaetly to have zero mean and std dev 1\n",
    "    standarized_strokes, means, std = standarize(strokes_og, stroke_lens)\n",
    "    \n",
    "    return standarized_strokes, means, std, stroke_lens, strings, string_lengths\n",
    "\n"
   ]
  },
  {
   "cell_type": "code",
   "execution_count": 42,
   "id": "37a962aa",
   "metadata": {},
   "outputs": [
    {
     "name": "stdout",
     "output_type": "stream",
     "text": [
      "(11846, 1200, 3) (11846,) (2,) (2,) (11846, 75) (11846,)\n"
     ]
    }
   ],
   "source": [
    "strokes, means, std, stroke_lengths, strings, string_lengths  = preprocess(\n",
    "    strokes_og, stroke_lens, strings, string_lens)\n",
    "print(strokes.shape, stroke_lengths.shape, means.shape, std.shape, strings.shape, string_lengths.shape)\n"
   ]
  },
  {
   "cell_type": "code",
   "execution_count": 43,
   "id": "0988387d",
   "metadata": {},
   "outputs": [
    {
     "data": {
      "text/plain": [
       "array([[-0.61420643, -0.1501907 ,  1.        ],\n",
       "       [ 0.        ,  0.        ,  1.        ],\n",
       "       [ 0.        ,  0.        ,  0.        ],\n",
       "       [ 0.        ,  0.        ,  0.        ]], dtype=float32)"
      ]
     },
     "execution_count": 43,
     "metadata": {},
     "output_type": "execute_result"
    }
   ],
   "source": [
    "strokes[2][stroke_lengths[2]-2:stroke_lengths[2]+2]"
   ]
  },
  {
   "cell_type": "code",
   "execution_count": 44,
   "id": "5da8c129",
   "metadata": {},
   "outputs": [],
   "source": [
    "import matplotlib.pyplot as plt\n",
    "\n",
    "def offsets_to_coords(offsets):\n",
    "    \"\"\"\n",
    "    convert from offsets to coordinates\n",
    "    \"\"\"\n",
    "    return np.concatenate([np.cumsum(offsets[:, :2], axis=0), offsets[:, 2:3]], axis=1)\n",
    "\n",
    "\n",
    "def draw(offsets, plot_end_points=True):\n",
    "    strokes = offsets_to_coords(offsets)\n",
    "    \n",
    "    fig, ax = plt.subplots(figsize=(12, 6))\n",
    "    stroke = []\n",
    "    for x, y, eos in strokes:\n",
    "        stroke.append((x, y))\n",
    "        if eos == 1:\n",
    "            coords = list(zip(*stroke))\n",
    "            ax.plot(coords[0], coords[1], 'k')\n",
    "            if plot_end_points:\n",
    "                ax.plot(x, y, 'ro')\n",
    "            stroke = []\n",
    "    if stroke:\n",
    "        coords = list(zip(*stroke))\n",
    "        ax.plot(coords[0], coords[1], 'k')\n",
    "        stroke = []\n",
    "\n",
    "    padding = 10\n",
    "    \n",
    "    ax.set_xlim(strokes[:,0].min() - padding, strokes[:,0].max() + padding)\n",
    "    ax.set_ylim(strokes[:,1].min() - padding, strokes[:,1].max() + padding)\n",
    "\n",
    "    ax.set_aspect('equal')\n",
    "    plt.tick_params(\n",
    "        axis='both',\n",
    "        left='off',\n",
    "        top='off',\n",
    "        right='off',\n",
    "        bottom='off',\n",
    "        labelleft='off',\n",
    "        labeltop='off',\n",
    "        labelright='off',\n",
    "        labelbottom='off'\n",
    "    )\n",
    "    plt.show()\n",
    "    plt.close('all')"
   ]
  },
  {
   "cell_type": "code",
   "execution_count": 45,
   "id": "ef8dd26b",
   "metadata": {},
   "outputs": [
    {
     "data": {
      "image/png": "[encoded data removed]",
      "text/plain": [
       "<Figure size 864x432 with 1 Axes>"
      ]
     },
     "metadata": {
      "needs_background": "light"
     },
     "output_type": "display_data"
    },
    {
     "data": {
      "image/png": "[encoded data removed]",
      "text/plain": [
       "<Figure size 864x432 with 1 Axes>"
      ]
     },
     "metadata": {
      "needs_background": "light"
     },
     "output_type": "display_data"
    },
    {
     "name": "stdout",
     "output_type": "stream",
     "text": [
      "What 's new? This piece\n"
     ]
    }
   ],
   "source": [
    "draw(strokes[0])\n",
    "res2 = destandarize(strokes, stroke_lengths, means, std) # for checking\n",
    "draw(res2[0])\n",
    "print(drawing.decode_ascii(strings[0]))"
   ]
  },
  {
   "cell_type": "code",
   "execution_count": 46,
   "id": "3b5fe9bd",
   "metadata": {},
   "outputs": [],
   "source": [
    "class HandwritingDataset(Dataset):\n",
    "    def __init__(self, strokes, stroke_lengths):\n",
    "        self.strokes = strokes\n",
    "        self.stroke_lengths = stroke_lengths\n",
    "        #self.mask = self.getMask()\n",
    "        \n",
    "    def __len__(self):\n",
    "        return self.strokes.shape[0]\n",
    "    \n",
    "    def __getitem__(self, idx):\n",
    "        return self.strokes[idx], self.stroke_lengths[idx] #, self.mask[idx]\n",
    "    \n",
    "    def getMask(self):\n",
    "        mask = np.ones((self.strokes.shape[0], self.strokes.shape[1]))\n",
    "        for i in range(self.strokes.shape[0]):\n",
    "            # The mask needs to be 1 not till the last index or the index corresponding \n",
    "            # to the last character of stroke, but instead one before as the last char is \n",
    "            # always a special character (0, 0, 1) denoting the end of the stroke and \n",
    "            # we do not want to include loss computation on this as there is no point \n",
    "            # in teh stroke after this.\n",
    "            mask[i][self.stroke_lengths[i]-1:] = 0\n",
    "        return mask\n",
    "    \n",
    "train_dataset = HandwritingDataset(strokes[:10000], stroke_lens[:10000])\n",
    "test_dataset = HandwritingDataset(strokes[10000:], stroke_lens[10000:])\n"
   ]
  },
  {
   "cell_type": "code",
   "execution_count": 47,
   "id": "988d3cef",
   "metadata": {},
   "outputs": [],
   "source": [
    "class Prediction(nn.Module):\n",
    "    def __init__(self, input_size, hidden_size, output_size):\n",
    "        super(Prediction, self).__init__()\n",
    "        self.input_size = input_size # 3\n",
    "        self.hidden_size = hidden_size # 900\n",
    "        self.lstmLayer = nn.LSTM(input_size, hidden_size, batch_first=True)\n",
    "        self.linearLayer = nn.Linear(input_size+hidden_size, output_size)\n",
    "        \n",
    "    def forward(self, packed_input, h0, c0):\n",
    "        packed_out1, (hn, cn) = self.lstmLayer(packed_input, (h0, c0))\n",
    "        \n",
    "        lin_layer_input = torch.cat(\n",
    "            (packed_input.data, packed_out1.data), dim=-1)\n",
    "        return self.linearLayer(lin_layer_input), (hn, cn)"
   ]
  },
  {
   "cell_type": "code",
   "execution_count": 48,
   "id": "54192d54",
   "metadata": {},
   "outputs": [
    {
     "data": {
      "text/plain": [
       "tensor([[[ 1.6011, -0.6946,  1.5962],\n",
       "         [-1.1036,  1.7416,  0.8431],\n",
       "         [-1.5702, -0.9834,  0.3030],\n",
       "         [-0.2933,  0.5182, -1.5609],\n",
       "         [-0.2194,  0.2824, -0.7596],\n",
       "         [ 0.0000,  0.0000,  0.0000],\n",
       "         [ 0.0000,  0.0000,  0.0000],\n",
       "         [ 0.0000,  0.0000,  0.0000],\n",
       "         [ 0.0000,  0.0000,  0.0000],\n",
       "         [ 0.0000,  0.0000,  0.0000]],\n",
       "\n",
       "        [[-0.0703,  0.1106, -1.3528],\n",
       "         [-0.1417, -0.4524, -0.0320],\n",
       "         [ 0.3472,  0.2945, -0.0431],\n",
       "         [ 0.0000,  0.0000,  0.0000],\n",
       "         [ 0.0000,  0.0000,  0.0000],\n",
       "         [ 0.0000,  0.0000,  0.0000],\n",
       "         [ 0.0000,  0.0000,  0.0000],\n",
       "         [ 0.0000,  0.0000,  0.0000],\n",
       "         [ 0.0000,  0.0000,  0.0000],\n",
       "         [ 0.0000,  0.0000,  0.0000]]])"
      ]
     },
     "execution_count": 48,
     "metadata": {},
     "output_type": "execute_result"
    },
    {
     "data": {
      "text/plain": [
       "PackedSequence(data=tensor([[ 1.6011, -0.6946,  1.5962],\n",
       "        [-0.0703,  0.1106, -1.3528],\n",
       "        [-1.1036,  1.7416,  0.8431],\n",
       "        [-0.1417, -0.4524, -0.0320],\n",
       "        [-1.5702, -0.9834,  0.3030],\n",
       "        [ 0.3472,  0.2945, -0.0431],\n",
       "        [-0.2933,  0.5182, -1.5609],\n",
       "        [-0.2194,  0.2824, -0.7596]]), batch_sizes=tensor([2, 2, 2, 1, 1]), sorted_indices=None, unsorted_indices=None)"
      ]
     },
     "execution_count": 48,
     "metadata": {},
     "output_type": "execute_result"
    },
    {
     "data": {
      "text/plain": [
       "torch.Size([8, 3])"
      ]
     },
     "execution_count": 48,
     "metadata": {},
     "output_type": "execute_result"
    }
   ],
   "source": [
    "inputs = torch.randn(2, 10, 3)\n",
    "lengths = torch.tensor([5, 3])\n",
    "inputs[0, 5:, :] = 0\n",
    "inputs[1, 3:, :] = 0\n",
    "inputs\n",
    "packed_input = pack_padded_sequence(inputs, lengths.numpy(), batch_first=True)\n",
    "packed_input\n",
    "packed_input.data.shape"
   ]
  },
  {
   "cell_type": "code",
   "execution_count": 54,
   "id": "d3024237",
   "metadata": {},
   "outputs": [],
   "source": [
    "def get_mixture_params_from_output(outputs):\n",
    "    pis = nn.Softmax(1)(outputs[:,:n_mixtures])\n",
    "    mus = outputs[:, n_mixtures:3*n_mixtures].reshape(-1, n_mixtures, 2)\n",
    "    \n",
    "    sigmas = torch.exp(outputs[:, 3*n_mixtures:5*n_mixtures]).reshape(-1, n_mixtures, 2)\n",
    "    phos = torch.tanh(outputs[:, 5*n_mixtures:6*n_mixtures]).reshape(-1, n_mixtures, 1)\n",
    "    \n",
    "    covs = torch.zeros(outputs.shape[0], n_mixtures, 2, 2, device=device)\n",
    "    covs[:,:,0,0] = sigmas[:,:,0]**2\n",
    "    covs[:,:,1,1] = sigmas[:,:,1]**2\n",
    "    covs[:,:,0,1] = phos[:,:,0] * sigmas[:,:,0] * sigmas[:,:,1]\n",
    "    covs[:,:,1,0] = covs[:,:,0,1]\n",
    "    \n",
    "    return pis, mus, covs\n",
    "\n",
    "def get_mixture_distributions_from_output(outputs):\n",
    "    pis, mus, covs = get_mixture_params_from_output(outputs)\n",
    "    \n",
    "    distributions = torch.distributions.MultivariateNormal(mus, covs)\n",
    "    return pis, distributions\n",
    "\n",
    "def get_pen_lift_probs_from_output(outputs):\n",
    "    return 1/(1 + torch.exp(outputs[:,-1]))\n",
    "\n",
    "def nll(outputs, targets):\n",
    "    outputs = outputs.to(device)\n",
    "    targets = targets.to(device)\n",
    "    \n",
    "    target_coords = targets[:,0:2].unsqueeze(1).repeat_interleave(\n",
    "            torch.tensor([n_mixtures], device=device), dim=1)\n",
    "    print(target_coords[:2])\n",
    "    stroke_lift = targets[:,-1]\n",
    "    \n",
    "    pis, distributions = get_mixture_distributions_from_output(outputs)\n",
    "    es = get_pen_lift_probs_from_output(outputs)\n",
    "\n",
    "    probs = distributions.log_prob(target_coords)\n",
    "    loss1 = - torch.logsumexp(torch.log(pis) + probs, dim=1)\n",
    "    loss2 = - torch.log(es)*stroke_lift\n",
    "    loss3 = - torch.log(1 - es)*(1-stroke_lift)\n",
    "    loss_per_point = loss1 + loss2 + loss3\n",
    "    \n",
    "    return loss_per_point.sum()/batch_size"
   ]
  },
  {
   "cell_type": "code",
   "execution_count": 55,
   "id": "86930d60",
   "metadata": {},
   "outputs": [],
   "source": [
    "def get_next_point(model, point_prev, h_prev, c_prev):\n",
    "    with torch.no_grad():\n",
    "        model_input = pack_padded_sequence(\n",
    "            point_prev.unsqueeze(0).unsqueeze(0),\n",
    "            torch.tensor([1]).cpu().numpy(),\n",
    "            batch_first=True)\n",
    "        outputs, (h_next, c_next) = model(model_input, h_prev, c_prev)\n",
    "        \n",
    "        es = get_pen_lift_probs_from_output(outputs)\n",
    "        pis, mus, covs = get_mixture_params_from_output(outputs)\n",
    "        \n",
    "        sample_index = 0\n",
    "        if n_mixtures > 1:\n",
    "            sample_index = np.random.choice(\n",
    "                range(n_mixtures),\n",
    "                p = pis.squeeze().cpu().numpy())\n",
    "\n",
    "        pen_off = torch.tensor(\n",
    "            [np.random.binomial(1,es.item())],\n",
    "            device=device)\n",
    "\n",
    "        sample_point = torch.tensor(\n",
    "            np.random.multivariate_normal(\n",
    "                mus.squeeze(0)[sample_index].cpu().numpy(),\n",
    "                covs.squeeze(0)[sample_index].cpu().numpy()),\n",
    "            device=device)\n",
    "        \n",
    "        return torch.cat((sample_point, pen_off), dim=0), (h_next, c_next)\n",
    "        \n",
    "def sample(model):\n",
    "    timestamps = max_length\n",
    "    sample_stroke = torch.zeros(timestamps, 3, device=device)\n",
    "    h = torch.zeros(1, 1, hidden_size, device=device)\n",
    "    c = torch.zeros(1, 1, hidden_size, device=device)\n",
    "    stroke_end = False\n",
    "    for i in range(timestamps-2):\n",
    "        prev_point = sample_stroke[i]\n",
    "        new_point, (h, c) = get_next_point(model, prev_point, h, c)\n",
    "        sample_stroke[i+1] = new_point\n",
    "        if(new_point[0] == 0 and new_point[1] == 0 and new_point[2] == 1):\n",
    "            print(\"Model decided to end the stroke\")\n",
    "            stroke_end = True\n",
    "            break\n",
    "    if (not stroke_end):\n",
    "        sample_stroke[timestamps-1][2] = 1\n",
    "    return sample_stroke"
   ]
  },
  {
   "cell_type": "code",
   "execution_count": 56,
   "id": "b19b0ccc",
   "metadata": {},
   "outputs": [],
   "source": [
    "def get_inputs_targets_from_batch(strokes_batch, lengths_batch):\n",
    "    lengths_batch, perm_idx = lengths_batch.sort(0, descending=True)\n",
    "    strokes_batch = strokes_batch[perm_idx]\n",
    "    \n",
    "    packed_inputs = pack_padded_sequence(\n",
    "        strokes_batch,\n",
    "        lengths_batch.cpu().numpy() - 1, # we dont want to pack the entire sequence\n",
    "        batch_first=True)\n",
    "    targets = pack_padded_sequence(\n",
    "        strokes_batch[:,1:,:],\n",
    "        lengths_batch.cpu().numpy() - 1, # we dont want to pack the entire sequence\n",
    "        batch_first=True)\n",
    "    return packed_inputs, targets\n",
    "\n",
    "def train_batch(model, optimizer, strokes_batch, lengths_batch, h0, c0):\n",
    "    optimizer.zero_grad()\n",
    "    inputs, targets = get_inputs_targets_from_batch(strokes_batch, lengths_batch)\n",
    "    outputs, _ = model(inputs, h0, c0)\n",
    "    loss = nll(outputs, targets.data)\n",
    "    loss.backward()\n",
    "    #### Do Gradient clipping here if need be\n",
    "    optimizer.step()\n",
    "    return loss.item()\n",
    "\n",
    "def save_model(model, model_name):\n",
    "    base_dir = \"/u/home/lyrebird_code/handwriting_synthesis/model_checkpoints/\"\n",
    "    torch.save({\n",
    "        'model_state_dict': model.state_dict(),\n",
    "    }, base_dir + model_name)\n",
    "    \n",
    "def train(model, optimizer, train_dataloader, num_epochs):\n",
    "    losses = []\n",
    "    n_iter = 0\n",
    "    total_loss = 0\n",
    "    start = time.time()\n",
    "    \n",
    "    print_every = 50\n",
    "    sample_every = print_every * 5\n",
    "    \n",
    "    h0 = torch.zeros(1, batch_size, hidden_size, device=device)\n",
    "    c0 = torch.zeros(1, batch_size, hidden_size, device=device)\n",
    "    \n",
    "    for epoch in range(num_epochs):\n",
    "        \n",
    "        for strokes_batch, lengths_batch in train_dataloader:\n",
    "            strokes_batch = strokes_batch.to(device)\n",
    "            lengths_batch = lengths_batch.to(device)\n",
    "            \n",
    "            batch_loss = train_batch(\n",
    "                model,\n",
    "                optimizer,\n",
    "                strokes_batch,\n",
    "                lengths_batch,\n",
    "                h0, c0)\n",
    "            h0 = h0.detach()\n",
    "            c0 = c0.detach()\n",
    "            total_loss += batch_loss\n",
    "            \n",
    "            if n_iter % print_every == 0:\n",
    "                avg_loss = total_loss/print_every\n",
    "                losses.append(avg_loss)\n",
    "                print(f\"iteration: {n_iter} \"\\\n",
    "                      f\"of {len(train_dataloader) * num_epochs}, \" \\\n",
    "                      f\"avg_loss: {avg_loss:.2f}, \"\\\n",
    "                      f\"timeSinceStart: {time.time() - start :.2f}, \"\\\n",
    "                      f\"Epoch: {epoch}\")\n",
    "                total_loss = 0\n",
    "                save_model(model, model_name)\n",
    "                \n",
    "            if n_iter % sample_every == 0:\n",
    "                sample_stroke = sample(model)\n",
    "                sample_stroke[1:, 0:2] *= torch.tensor(std, device=device)\n",
    "                sample_stroke[1:, 0:2] += torch.tensor(means, device=device)\n",
    "                draw(sample_stroke.cpu(), plot_end_points=False)\n",
    "                \n",
    "            n_iter += 1\n",
    "    return losses"
   ]
  },
  {
   "cell_type": "code",
   "execution_count": 57,
   "id": "ed63fd64",
   "metadata": {},
   "outputs": [],
   "source": [
    "\n",
    "model = Prediction(input_size, hidden_size, 6*n_mixtures+1).to(device)\n",
    "optim = torch.optim.Adam(model.parameters(), lr = lr)\n",
    "train_dataloader = DataLoader(\n",
    "    train_dataset,\n",
    "    shuffle=True,\n",
    "    batch_size=batch_size,\n",
    "    drop_last=True)\n"
   ]
  },
  {
   "cell_type": "code",
   "execution_count": 58,
   "id": "b65eb320",
   "metadata": {
    "scrolled": false
   },
   "outputs": [
    {
     "name": "stdout",
     "output_type": "stream",
     "text": [
      "tensor([[[-0.2126,  0.0038],\n",
      "         [-0.2126,  0.0038],\n",
      "         [-0.2126,  0.0038]],\n",
      "\n",
      "        [[-0.0019, -0.6269],\n",
      "         [-0.0019, -0.6269],\n",
      "         [-0.0019, -0.6269]]], device='cuda:2')\n",
      "iteration: 0 of 39000, avg_loss: 40.96, timeSinceStart: 0.67, Epoch: 0\n"
     ]
    },
    {
     "data": {
      "image/png": "[encoded data removed]",
      "text/plain": [
       "<Figure size 864x432 with 1 Axes>"
      ]
     },
     "metadata": {
      "needs_background": "light"
     },
     "output_type": "display_data"
    },
    {
     "ename": "RuntimeError",
     "evalue": "CUDA out of memory. Tried to allocate 2.71 GiB (GPU 2; 10.92 GiB total capacity; 5.05 GiB already allocated; 1.03 GiB free; 9.03 GiB reserved in total by PyTorch) If reserved memory is >> allocated memory try setting max_split_size_mb to avoid fragmentation.  See documentation for Memory Management and PYTORCH_CUDA_ALLOC_CONF",
     "output_type": "error",
     "traceback": [
      "\u001b[0;31m---------------------------------------------------------------------------\u001b[0m",
      "\u001b[0;31mRuntimeError\u001b[0m                              Traceback (most recent call last)",
      "\u001b[0;32m/tmp/ipykernel_4483/1182538273.py\u001b[0m in \u001b[0;36m<module>\u001b[0;34m\u001b[0m\n\u001b[0;32m----> 1\u001b[0;31m \u001b[0mtrain\u001b[0m\u001b[0;34m(\u001b[0m\u001b[0mmodel\u001b[0m\u001b[0;34m,\u001b[0m \u001b[0moptim\u001b[0m\u001b[0;34m,\u001b[0m \u001b[0mtrain_dataloader\u001b[0m\u001b[0;34m,\u001b[0m \u001b[0mn_epochs\u001b[0m\u001b[0;34m)\u001b[0m\u001b[0;34m\u001b[0m\u001b[0;34m\u001b[0m\u001b[0m\n\u001b[0m",
      "\u001b[0;32m/tmp/ipykernel_4483/810025950.py\u001b[0m in \u001b[0;36mtrain\u001b[0;34m(model, optimizer, train_dataloader, num_epochs)\u001b[0m\n\u001b[1;32m     47\u001b[0m             \u001b[0mlengths_batch\u001b[0m \u001b[0;34m=\u001b[0m \u001b[0mlengths_batch\u001b[0m\u001b[0;34m.\u001b[0m\u001b[0mto\u001b[0m\u001b[0;34m(\u001b[0m\u001b[0mdevice\u001b[0m\u001b[0;34m)\u001b[0m\u001b[0;34m\u001b[0m\u001b[0;34m\u001b[0m\u001b[0m\n\u001b[1;32m     48\u001b[0m \u001b[0;34m\u001b[0m\u001b[0m\n\u001b[0;32m---> 49\u001b[0;31m             batch_loss = train_batch(\n\u001b[0m\u001b[1;32m     50\u001b[0m                 \u001b[0mmodel\u001b[0m\u001b[0;34m,\u001b[0m\u001b[0;34m\u001b[0m\u001b[0;34m\u001b[0m\u001b[0m\n\u001b[1;32m     51\u001b[0m                 \u001b[0moptimizer\u001b[0m\u001b[0;34m,\u001b[0m\u001b[0;34m\u001b[0m\u001b[0;34m\u001b[0m\u001b[0m\n",
      "\u001b[0;32m/tmp/ipykernel_4483/810025950.py\u001b[0m in \u001b[0;36mtrain_batch\u001b[0;34m(model, optimizer, strokes_batch, lengths_batch, h0, c0)\u001b[0m\n\u001b[1;32m     16\u001b[0m     \u001b[0moptimizer\u001b[0m\u001b[0;34m.\u001b[0m\u001b[0mzero_grad\u001b[0m\u001b[0;34m(\u001b[0m\u001b[0;34m)\u001b[0m\u001b[0;34m\u001b[0m\u001b[0;34m\u001b[0m\u001b[0m\n\u001b[1;32m     17\u001b[0m     \u001b[0minputs\u001b[0m\u001b[0;34m,\u001b[0m \u001b[0mtargets\u001b[0m \u001b[0;34m=\u001b[0m \u001b[0mget_inputs_targets_from_batch\u001b[0m\u001b[0;34m(\u001b[0m\u001b[0mstrokes_batch\u001b[0m\u001b[0;34m,\u001b[0m \u001b[0mlengths_batch\u001b[0m\u001b[0;34m)\u001b[0m\u001b[0;34m\u001b[0m\u001b[0;34m\u001b[0m\u001b[0m\n\u001b[0;32m---> 18\u001b[0;31m     \u001b[0moutputs\u001b[0m\u001b[0;34m,\u001b[0m \u001b[0m_\u001b[0m \u001b[0;34m=\u001b[0m \u001b[0mmodel\u001b[0m\u001b[0;34m(\u001b[0m\u001b[0minputs\u001b[0m\u001b[0;34m,\u001b[0m \u001b[0mh0\u001b[0m\u001b[0;34m,\u001b[0m \u001b[0mc0\u001b[0m\u001b[0;34m)\u001b[0m\u001b[0;34m\u001b[0m\u001b[0;34m\u001b[0m\u001b[0m\n\u001b[0m\u001b[1;32m     19\u001b[0m     \u001b[0mloss\u001b[0m \u001b[0;34m=\u001b[0m \u001b[0mnll\u001b[0m\u001b[0;34m(\u001b[0m\u001b[0moutputs\u001b[0m\u001b[0;34m,\u001b[0m \u001b[0mtargets\u001b[0m\u001b[0;34m.\u001b[0m\u001b[0mdata\u001b[0m\u001b[0;34m)\u001b[0m\u001b[0;34m\u001b[0m\u001b[0;34m\u001b[0m\u001b[0m\n\u001b[1;32m     20\u001b[0m     \u001b[0mloss\u001b[0m\u001b[0;34m.\u001b[0m\u001b[0mbackward\u001b[0m\u001b[0;34m(\u001b[0m\u001b[0;34m)\u001b[0m\u001b[0;34m\u001b[0m\u001b[0;34m\u001b[0m\u001b[0m\n",
      "\u001b[0;32m/home/miniconda3/lib/python3.8/site-packages/torch/nn/modules/module.py\u001b[0m in \u001b[0;36m_call_impl\u001b[0;34m(self, *input, **kwargs)\u001b[0m\n\u001b[1;32m   1058\u001b[0m         if not (self._backward_hooks or self._forward_hooks or self._forward_pre_hooks or _global_backward_hooks\n\u001b[1;32m   1059\u001b[0m                 or _global_forward_hooks or _global_forward_pre_hooks):\n\u001b[0;32m-> 1060\u001b[0;31m             \u001b[0;32mreturn\u001b[0m \u001b[0mforward_call\u001b[0m\u001b[0;34m(\u001b[0m\u001b[0;34m*\u001b[0m\u001b[0minput\u001b[0m\u001b[0;34m,\u001b[0m \u001b[0;34m**\u001b[0m\u001b[0mkwargs\u001b[0m\u001b[0;34m)\u001b[0m\u001b[0;34m\u001b[0m\u001b[0;34m\u001b[0m\u001b[0m\n\u001b[0m\u001b[1;32m   1061\u001b[0m         \u001b[0;31m# Do not call functions when jit is used\u001b[0m\u001b[0;34m\u001b[0m\u001b[0;34m\u001b[0m\u001b[0;34m\u001b[0m\u001b[0m\n\u001b[1;32m   1062\u001b[0m         \u001b[0mfull_backward_hooks\u001b[0m\u001b[0;34m,\u001b[0m \u001b[0mnon_full_backward_hooks\u001b[0m \u001b[0;34m=\u001b[0m \u001b[0;34m[\u001b[0m\u001b[0;34m]\u001b[0m\u001b[0;34m,\u001b[0m \u001b[0;34m[\u001b[0m\u001b[0;34m]\u001b[0m\u001b[0;34m\u001b[0m\u001b[0;34m\u001b[0m\u001b[0m\n",
      "\u001b[0;32m/tmp/ipykernel_4483/2011680937.py\u001b[0m in \u001b[0;36mforward\u001b[0;34m(self, packed_input, h0, c0)\u001b[0m\n\u001b[1;32m      8\u001b[0m \u001b[0;34m\u001b[0m\u001b[0m\n\u001b[1;32m      9\u001b[0m     \u001b[0;32mdef\u001b[0m \u001b[0mforward\u001b[0m\u001b[0;34m(\u001b[0m\u001b[0mself\u001b[0m\u001b[0;34m,\u001b[0m \u001b[0mpacked_input\u001b[0m\u001b[0;34m,\u001b[0m \u001b[0mh0\u001b[0m\u001b[0;34m,\u001b[0m \u001b[0mc0\u001b[0m\u001b[0;34m)\u001b[0m\u001b[0;34m:\u001b[0m\u001b[0;34m\u001b[0m\u001b[0;34m\u001b[0m\u001b[0m\n\u001b[0;32m---> 10\u001b[0;31m         \u001b[0mpacked_out1\u001b[0m\u001b[0;34m,\u001b[0m \u001b[0;34m(\u001b[0m\u001b[0mhn\u001b[0m\u001b[0;34m,\u001b[0m \u001b[0mcn\u001b[0m\u001b[0;34m)\u001b[0m \u001b[0;34m=\u001b[0m \u001b[0mself\u001b[0m\u001b[0;34m.\u001b[0m\u001b[0mlstmLayer\u001b[0m\u001b[0;34m(\u001b[0m\u001b[0mpacked_input\u001b[0m\u001b[0;34m,\u001b[0m \u001b[0;34m(\u001b[0m\u001b[0mh0\u001b[0m\u001b[0;34m,\u001b[0m \u001b[0mc0\u001b[0m\u001b[0;34m)\u001b[0m\u001b[0;34m)\u001b[0m\u001b[0;34m\u001b[0m\u001b[0;34m\u001b[0m\u001b[0m\n\u001b[0m\u001b[1;32m     11\u001b[0m \u001b[0;34m\u001b[0m\u001b[0m\n\u001b[1;32m     12\u001b[0m         lin_layer_input = torch.cat(\n",
      "\u001b[0;32m/home/miniconda3/lib/python3.8/site-packages/torch/nn/modules/module.py\u001b[0m in \u001b[0;36m_call_impl\u001b[0;34m(self, *input, **kwargs)\u001b[0m\n\u001b[1;32m   1058\u001b[0m         if not (self._backward_hooks or self._forward_hooks or self._forward_pre_hooks or _global_backward_hooks\n\u001b[1;32m   1059\u001b[0m                 or _global_forward_hooks or _global_forward_pre_hooks):\n\u001b[0;32m-> 1060\u001b[0;31m             \u001b[0;32mreturn\u001b[0m \u001b[0mforward_call\u001b[0m\u001b[0;34m(\u001b[0m\u001b[0;34m*\u001b[0m\u001b[0minput\u001b[0m\u001b[0;34m,\u001b[0m \u001b[0;34m**\u001b[0m\u001b[0mkwargs\u001b[0m\u001b[0;34m)\u001b[0m\u001b[0;34m\u001b[0m\u001b[0;34m\u001b[0m\u001b[0m\n\u001b[0m\u001b[1;32m   1061\u001b[0m         \u001b[0;31m# Do not call functions when jit is used\u001b[0m\u001b[0;34m\u001b[0m\u001b[0;34m\u001b[0m\u001b[0;34m\u001b[0m\u001b[0m\n\u001b[1;32m   1062\u001b[0m         \u001b[0mfull_backward_hooks\u001b[0m\u001b[0;34m,\u001b[0m \u001b[0mnon_full_backward_hooks\u001b[0m \u001b[0;34m=\u001b[0m \u001b[0;34m[\u001b[0m\u001b[0;34m]\u001b[0m\u001b[0;34m,\u001b[0m \u001b[0;34m[\u001b[0m\u001b[0;34m]\u001b[0m\u001b[0;34m\u001b[0m\u001b[0;34m\u001b[0m\u001b[0m\n",
      "\u001b[0;32m/home/miniconda3/lib/python3.8/site-packages/torch/nn/modules/rnn.py\u001b[0m in \u001b[0;36mforward\u001b[0;34m(self, input, hx)\u001b[0m\n\u001b[1;32m    690\u001b[0m                               self.dropout, self.training, self.bidirectional, self.batch_first)\n\u001b[1;32m    691\u001b[0m         \u001b[0;32melse\u001b[0m\u001b[0;34m:\u001b[0m\u001b[0;34m\u001b[0m\u001b[0;34m\u001b[0m\u001b[0m\n\u001b[0;32m--> 692\u001b[0;31m             result = _VF.lstm(input, batch_sizes, hx, self._flat_weights, self.bias,\n\u001b[0m\u001b[1;32m    693\u001b[0m                               self.num_layers, self.dropout, self.training, self.bidirectional)\n\u001b[1;32m    694\u001b[0m         \u001b[0moutput\u001b[0m \u001b[0;34m=\u001b[0m \u001b[0mresult\u001b[0m\u001b[0;34m[\u001b[0m\u001b[0;36m0\u001b[0m\u001b[0;34m]\u001b[0m\u001b[0;34m\u001b[0m\u001b[0;34m\u001b[0m\u001b[0m\n",
      "\u001b[0;31mRuntimeError\u001b[0m: CUDA out of memory. Tried to allocate 2.71 GiB (GPU 2; 10.92 GiB total capacity; 5.05 GiB already allocated; 1.03 GiB free; 9.03 GiB reserved in total by PyTorch) If reserved memory is >> allocated memory try setting max_split_size_mb to avoid fragmentation.  See documentation for Memory Management and PYTORCH_CUDA_ALLOC_CONF"
     ]
    }
   ],
   "source": [
    "train(model, optim, train_dataloader, n_epochs)"
   ]
  },
  {
   "cell_type": "code",
   "execution_count": null,
   "id": "21d042e0",
   "metadata": {
    "scrolled": false
   },
   "outputs": [],
   "source": [
    "m = Prediction(input_size, hidden_size, 6*n_mixtures+1).to(device)\n",
    "\n",
    "inputs = torch.randn(batch_size, max_length, input_size, device=device)\n",
    "inputs[:,0, 0:3] = 0\n",
    "inputs[0,4, 0:2] = 0\n",
    "inputs[0,1:5, 2] = 0\n",
    "inputs[0,4, 2] = 1\n",
    "\n",
    "inputs[1,3:, 0:3] = 0\n",
    "inputs[1,2, 0:2] = 0\n",
    "inputs[1,2, 2] = 1\n",
    "inputs[1,1, 2] = 0\n",
    "inputs\n",
    "\n",
    "lengths = torch.tensor([5, 3])\n",
    "\n",
    "packed_inp = pack_padded_sequence(\n",
    "    inputs,\n",
    "    lengths.cpu().numpy() - 1, # we dont want to pack the entire sequence\n",
    "    batch_first=True)\n",
    "targets = pack_padded_sequence(\n",
    "    inputs[:,1:,:],\n",
    "    lengths.cpu().numpy() - 1, # we dont want to pack the entire sequence\n",
    "    batch_first=True)\n",
    "packed_inp\n",
    "targets\n",
    "h = torch.zeros(1, 2, 4, device=device)\n",
    "out, out1 = m(packed_inp, h, h)\n",
    "print(\"out\", out)\n",
    "nll(out, targets.data)\n",
    "print(out1)"
   ]
  },
  {
   "cell_type": "code",
   "execution_count": null,
   "id": "f250c4ba",
   "metadata": {
    "scrolled": false
   },
   "outputs": [],
   "source": [
    "h0 = torch.zeros(1, batch_size, hidden_size, device=device)\n",
    "c0 = torch.zeros(1, batch_size, hidden_size, device=device)\n",
    "print(inputs.shape, lengths.shape, lengths)\n",
    "train_batch(m, optim, inputs, lengths, h0, c0)\n",
    "s = sample(m)\n",
    "draw(s.cpu())"
   ]
  },
  {
   "cell_type": "code",
   "execution_count": null,
   "id": "4307b809",
   "metadata": {},
   "outputs": [],
   "source": [
    "start = torch.tensor([0, 0, 0])\n"
   ]
  },
  {
   "cell_type": "code",
   "execution_count": null,
   "id": "302830cd",
   "metadata": {},
   "outputs": [],
   "source": [
    "inputs = torch.randn(2, 5, 3)\n",
    "inputs[:,0, 0:3] = 0\n",
    "inputs[0,4, 0:2] = 0\n",
    "inputs[0,1:5, 2] = 0\n",
    "inputs[0,4, 2] = 1\n",
    "\n",
    "inputs[1,3:, 0:3] = 0\n",
    "inputs[1,2, 0:2] = 0\n",
    "inputs[1,2, 2] = 1\n",
    "inputs[1,1, 2] = 0\n",
    "inputs\n",
    "lengths = torch.tensor([5, 3])\n",
    "lengths\n",
    "ps = pack_padded_sequence(\n",
    "            inputs,\n",
    "            lengths.cpu().numpy() - 1, # we dont want to pack the entire sequence\n",
    "            batch_first=True)\n",
    "lstmLayer = nn.LSTM(3, 4, batch_first=True)\n",
    "linLayer = nn.Linear(4, 7)\n",
    "\n",
    "\n",
    "lstmout, _ = lstmLayer(ps)\n",
    "lstmout\n",
    "torch.cat((ps.data,lstmout.data), dim=-1)\n",
    "linLayer(lstmLayer(ps)[0][0])\n",
    "pad_packed_sequence(lstmLayer(ps)[0], batch_first=True)\n"
   ]
  }
 ],
 "metadata": {
  "kernelspec": {
   "display_name": "Python 3 (ipykernel)",
   "language": "python",
   "name": "python3"
  },
  "language_info": {
   "codemirror_mode": {
    "name": "ipython",
    "version": 3
   },
   "file_extension": ".py",
   "mimetype": "text/x-python",
   "name": "python",
   "nbconvert_exporter": "python",
   "pygments_lexer": "ipython3",
   "version": "3.8.10"
  }
 },
 "nbformat": 4,
 "nbformat_minor": 5
}
